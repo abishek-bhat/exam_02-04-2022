{
 "cells": [
  {
   "cell_type": "code",
   "execution_count": 1,
   "id": "ef47ec02",
   "metadata": {},
   "outputs": [],
   "source": [
    "fruits = (('Lemon','sour'),('DragonFruit', 'Sweet'),('Grapes','soUr'),('Kiwi','Sour'),('Apples', 'sweet'),('Orange', 'sour'),('Blueberries','sweet'),('Limes','Sour'))\n"
   ]
  },
  {
   "cell_type": "code",
   "execution_count": 2,
   "id": "389c686e",
   "metadata": {},
   "outputs": [],
   "source": [
    "sourFruits=[]"
   ]
  },
  {
   "cell_type": "code",
   "execution_count": 3,
   "id": "7378deb8",
   "metadata": {},
   "outputs": [],
   "source": [
    "for i in fruits:\n",
    "    if(i[1].lower()=='sour'):\n",
    "        sourFruits.append(i[0])"
   ]
  },
  {
   "cell_type": "code",
   "execution_count": 4,
   "id": "efe1b0e9",
   "metadata": {},
   "outputs": [
    {
     "name": "stdout",
     "output_type": "stream",
     "text": [
      "Sour Fruits: ['Lemon', 'Grapes', 'Kiwi', 'Orange', 'Limes']\n"
     ]
    }
   ],
   "source": [
    "print(\"Sour Fruits:\", sourFruits)"
   ]
  },
  {
   "cell_type": "code",
   "execution_count": null,
   "id": "94a3cf12",
   "metadata": {},
   "outputs": [],
   "source": []
  }
 ],
 "metadata": {
  "kernelspec": {
   "display_name": "Python 3 (ipykernel)",
   "language": "python",
   "name": "python3"
  },
  "language_info": {
   "codemirror_mode": {
    "name": "ipython",
    "version": 3
   },
   "file_extension": ".py",
   "mimetype": "text/x-python",
   "name": "python",
   "nbconvert_exporter": "python",
   "pygments_lexer": "ipython3",
   "version": "3.9.7"
  }
 },
 "nbformat": 4,
 "nbformat_minor": 5
}
