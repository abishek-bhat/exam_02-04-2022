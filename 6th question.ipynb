{
 "cells": [
  {
   "cell_type": "code",
   "execution_count": 6,
   "id": "e6aab3a6",
   "metadata": {},
   "outputs": [],
   "source": [
    "namesList = ['santa Maria', 'Hello World', 'Merry christmas', 'tHank You']"
   ]
  },
  {
   "cell_type": "code",
   "execution_count": 7,
   "id": "bcceb47e",
   "metadata": {},
   "outputs": [],
   "source": [
    "total=[]\n",
    "ans=[]"
   ]
  },
  {
   "cell_type": "code",
   "execution_count": 8,
   "id": "c8311778",
   "metadata": {},
   "outputs": [],
   "source": [
    "for i in namesList:\n",
    "    for j in i.split():\n",
    "        total.append(j)"
   ]
  },
  {
   "cell_type": "code",
   "execution_count": 9,
   "id": "1631de8e",
   "metadata": {},
   "outputs": [],
   "source": [
    "for i in l:\n",
    "    if(i[0].isupper()):\n",
    "        ans.append(i)"
   ]
  },
  {
   "cell_type": "code",
   "execution_count": 10,
   "id": "9f1ca2e2",
   "metadata": {},
   "outputs": [
    {
     "name": "stdout",
     "output_type": "stream",
     "text": [
      "['Maria', 'Hello', 'World', 'Merry', 'You']\n"
     ]
    }
   ],
   "source": [
    "print(ans)"
   ]
  },
  {
   "cell_type": "code",
   "execution_count": null,
   "id": "bedef4eb",
   "metadata": {},
   "outputs": [],
   "source": []
  },
  {
   "cell_type": "code",
   "execution_count": null,
   "id": "af614805",
   "metadata": {},
   "outputs": [],
   "source": []
  },
  {
   "cell_type": "code",
   "execution_count": null,
   "id": "4077083a",
   "metadata": {},
   "outputs": [],
   "source": []
  },
  {
   "cell_type": "code",
   "execution_count": null,
   "id": "aa54b095",
   "metadata": {},
   "outputs": [],
   "source": []
  },
  {
   "cell_type": "code",
   "execution_count": null,
   "id": "56ca5113",
   "metadata": {},
   "outputs": [],
   "source": []
  },
  {
   "cell_type": "code",
   "execution_count": null,
   "id": "f4ca442e",
   "metadata": {},
   "outputs": [],
   "source": []
  }
 ],
 "metadata": {
  "kernelspec": {
   "display_name": "Python 3 (ipykernel)",
   "language": "python",
   "name": "python3"
  },
  "language_info": {
   "codemirror_mode": {
    "name": "ipython",
    "version": 3
   },
   "file_extension": ".py",
   "mimetype": "text/x-python",
   "name": "python",
   "nbconvert_exporter": "python",
   "pygments_lexer": "ipython3",
   "version": "3.9.7"
  }
 },
 "nbformat": 4,
 "nbformat_minor": 5
}
