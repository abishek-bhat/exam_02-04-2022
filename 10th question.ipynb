{
 "cells": [
  {
   "cell_type": "code",
   "execution_count": 9,
   "id": "64d1a070",
   "metadata": {},
   "outputs": [],
   "source": [
    "import datetime as dt"
   ]
  },
  {
   "cell_type": "code",
   "execution_count": 14,
   "id": "b30c7f79",
   "metadata": {},
   "outputs": [
    {
     "data": {
      "text/plain": [
       "[1997, 2011, 1993, 2020]"
      ]
     },
     "execution_count": 14,
     "metadata": {},
     "output_type": "execute_result"
    }
   ],
   "source": [
    "dates = ['17-12-1997','22-04-2011','01-05-1993','19-06-2020']\n",
    "[dt.datetime.strptime(date_string, \"%d-%m-%Y\").year for date_string in dates]\n"
   ]
  },
  {
   "cell_type": "code",
   "execution_count": null,
   "id": "14577f5a",
   "metadata": {},
   "outputs": [],
   "source": []
  }
 ],
 "metadata": {
  "kernelspec": {
   "display_name": "Python 3 (ipykernel)",
   "language": "python",
   "name": "python3"
  },
  "language_info": {
   "codemirror_mode": {
    "name": "ipython",
    "version": 3
   },
   "file_extension": ".py",
   "mimetype": "text/x-python",
   "name": "python",
   "nbconvert_exporter": "python",
   "pygments_lexer": "ipython3",
   "version": "3.9.7"
  }
 },
 "nbformat": 4,
 "nbformat_minor": 5
}
