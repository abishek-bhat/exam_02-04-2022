{
 "cells": [
  {
   "cell_type": "code",
   "execution_count": 12,
   "id": "aff0648f",
   "metadata": {},
   "outputs": [
    {
     "name": "stdout",
     "output_type": "stream",
     "text": [
      "Given list : \n",
      " ['True', 'FALse', 'tRUe', 'tRue', 'False', 'false']\n",
      "New all uppercase list: \n",
      " ['TRUE', 'FALSE', 'TRUE', 'TRUE', 'FALSE', 'FALSE']\n"
     ]
    }
   ],
   "source": [
    "listA = ['True', 'FALse', 'tRUe','tRue','False', 'false']\n",
    "print(\"Given list : \\n\",listA)\n",
    "res = [x.upper() for x in listA]\n",
    "print(\"New all uppercase list: \\n\",res)"
   ]
  },
  {
   "cell_type": "code",
   "execution_count": null,
   "id": "11e5cc72",
   "metadata": {},
   "outputs": [],
   "source": []
  }
 ],
 "metadata": {
  "kernelspec": {
   "display_name": "Python 3 (ipykernel)",
   "language": "python",
   "name": "python3"
  },
  "language_info": {
   "codemirror_mode": {
    "name": "ipython",
    "version": 3
   },
   "file_extension": ".py",
   "mimetype": "text/x-python",
   "name": "python",
   "nbconvert_exporter": "python",
   "pygments_lexer": "ipython3",
   "version": "3.9.7"
  }
 },
 "nbformat": 4,
 "nbformat_minor": 5
}
