{
 "cells": [
  {
   "cell_type": "code",
   "execution_count": 7,
   "id": "f9194232",
   "metadata": {},
   "outputs": [],
   "source": [
    "positive = ['good','awesome','best','nice']\n",
    "negative = ['worst','awful']\n",
    "comments = ['He is a good boy','Food is the worst here','He is an awesome player','She is the best','This pizza tastes awful','These burger are really nice']\n"
   ]
  },
  {
   "cell_type": "code",
   "execution_count": 8,
   "id": "966da93f",
   "metadata": {},
   "outputs": [],
   "source": [
    "good=[];\n",
    "bad=[]\n",
    "result =[]\n",
    "for i in comments:\n",
    "    for j in i.split():\n",
    "        if j in positive:\n",
    "            good.append(i)\n",
    "        elif j in negative:\n",
    "            bad.append(i)"
   ]
  },
  {
   "cell_type": "code",
   "execution_count": 9,
   "id": "9ec4703f",
   "metadata": {},
   "outputs": [
    {
     "name": "stdout",
     "output_type": "stream",
     "text": [
      "Positive Comments: \n",
      "  He is a good boy\n",
      "  He is an awesome player\n",
      "  She is the best\n",
      "  These burger are really nice\n"
     ]
    }
   ],
   "source": [
    "print(\"Positive Comments: \")\n",
    "for k in good:\n",
    "    print(' ',k) "
   ]
  },
  {
   "cell_type": "code",
   "execution_count": 10,
   "id": "c5004f67",
   "metadata": {},
   "outputs": [
    {
     "name": "stdout",
     "output_type": "stream",
     "text": [
      "\n"
     ]
    }
   ],
   "source": [
    "print()        "
   ]
  },
  {
   "cell_type": "code",
   "execution_count": 12,
   "id": "42c1c45d",
   "metadata": {},
   "outputs": [
    {
     "name": "stdout",
     "output_type": "stream",
     "text": [
      "Negative Comments: \n",
      "  Food is the worst here\n",
      "  This pizza tastes awful\n"
     ]
    }
   ],
   "source": [
    "print(\"Negative Comments: \")\n",
    "for ih in bad:\n",
    "    print(' ',ih)"
   ]
  },
  {
   "cell_type": "code",
   "execution_count": null,
   "id": "c1417f53",
   "metadata": {},
   "outputs": [],
   "source": []
  },
  {
   "cell_type": "code",
   "execution_count": null,
   "id": "2795f363",
   "metadata": {},
   "outputs": [],
   "source": []
  },
  {
   "cell_type": "code",
   "execution_count": null,
   "id": "23fc0c85",
   "metadata": {},
   "outputs": [],
   "source": []
  },
  {
   "cell_type": "code",
   "execution_count": null,
   "id": "92309fd9",
   "metadata": {},
   "outputs": [],
   "source": []
  },
  {
   "cell_type": "code",
   "execution_count": null,
   "id": "0c3bbb31",
   "metadata": {},
   "outputs": [],
   "source": []
  },
  {
   "cell_type": "code",
   "execution_count": null,
   "id": "9654780a",
   "metadata": {},
   "outputs": [],
   "source": []
  }
 ],
 "metadata": {
  "kernelspec": {
   "display_name": "Python 3 (ipykernel)",
   "language": "python",
   "name": "python3"
  },
  "language_info": {
   "codemirror_mode": {
    "name": "ipython",
    "version": 3
   },
   "file_extension": ".py",
   "mimetype": "text/x-python",
   "name": "python",
   "nbconvert_exporter": "python",
   "pygments_lexer": "ipython3",
   "version": "3.9.7"
  }
 },
 "nbformat": 4,
 "nbformat_minor": 5
}
