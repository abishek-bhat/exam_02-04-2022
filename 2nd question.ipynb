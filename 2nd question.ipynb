{
 "cells": [
  {
   "cell_type": "code",
   "execution_count": 8,
   "id": "41d29f20",
   "metadata": {},
   "outputs": [],
   "source": [
    "def solve(n):\n",
    "    dict = { 'Square': lambda a : a**2, 'Cube': lambda a : a**3,'Squareroot': lambda a : a**(1/2)}\n",
    "    res = 0\n",
    "    for k in dict.keys():\n",
    "        res += dict[k](n)\n",
    "    return res"
   ]
  },
  {
   "cell_type": "code",
   "execution_count": 9,
   "id": "0451f6a5",
   "metadata": {},
   "outputs": [
    {
     "name": "stdout",
     "output_type": "stream",
     "text": [
      "enter the number 3\n"
     ]
    }
   ],
   "source": [
    "number=int(input(\"enter the number \"))"
   ]
  },
  {
   "cell_type": "code",
   "execution_count": 10,
   "id": "8bc5af17",
   "metadata": {},
   "outputs": [
    {
     "name": "stdout",
     "output_type": "stream",
     "text": [
      "37.73\n"
     ]
    }
   ],
   "source": [
    "print(round(solve(number),2))"
   ]
  },
  {
   "cell_type": "code",
   "execution_count": null,
   "id": "4c38a1e5",
   "metadata": {},
   "outputs": [],
   "source": []
  },
  {
   "cell_type": "code",
   "execution_count": null,
   "id": "341a4872",
   "metadata": {},
   "outputs": [],
   "source": []
  },
  {
   "cell_type": "code",
   "execution_count": null,
   "id": "5ded641d",
   "metadata": {},
   "outputs": [],
   "source": []
  },
  {
   "cell_type": "code",
   "execution_count": null,
   "id": "4a29b06f",
   "metadata": {},
   "outputs": [],
   "source": []
  }
 ],
 "metadata": {
  "kernelspec": {
   "display_name": "Python 3 (ipykernel)",
   "language": "python",
   "name": "python3"
  },
  "language_info": {
   "codemirror_mode": {
    "name": "ipython",
    "version": 3
   },
   "file_extension": ".py",
   "mimetype": "text/x-python",
   "name": "python",
   "nbconvert_exporter": "python",
   "pygments_lexer": "ipython3",
   "version": "3.9.7"
  }
 },
 "nbformat": 4,
 "nbformat_minor": 5
}
