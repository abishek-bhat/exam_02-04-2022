{
 "cells": [
  {
   "cell_type": "code",
   "execution_count": 4,
   "id": "48210924",
   "metadata": {},
   "outputs": [],
   "source": [
    "weightonearth = {'Jhon':45,'shelly':65,'Marry':35}"
   ]
  },
  {
   "cell_type": "code",
   "execution_count": 5,
   "id": "798409be",
   "metadata": {},
   "outputs": [],
   "source": [
    "l = lambda x: round((x/9.8)*1.62, 2)\n"
   ]
  },
  {
   "cell_type": "code",
   "execution_count": 6,
   "id": "89cbc53b",
   "metadata": {},
   "outputs": [],
   "source": [
    "result = lambda k: (k, l(weightonearth[k]))"
   ]
  },
  {
   "cell_type": "code",
   "execution_count": 7,
   "id": "6bab9307",
   "metadata": {},
   "outputs": [
    {
     "name": "stdout",
     "output_type": "stream",
     "text": [
      "{'Jhon': 7.44, 'shelly': 10.74, 'Marry': 5.79}\n"
     ]
    }
   ],
   "source": [
    "answer = dict(result(x) for x in weightonearth)\n",
    "print(answer)"
   ]
  }
 ],
 "metadata": {
  "kernelspec": {
   "display_name": "Python 3 (ipykernel)",
   "language": "python",
   "name": "python3"
  },
  "language_info": {
   "codemirror_mode": {
    "name": "ipython",
    "version": 3
   },
   "file_extension": ".py",
   "mimetype": "text/x-python",
   "name": "python",
   "nbconvert_exporter": "python",
   "pygments_lexer": "ipython3",
   "version": "3.9.7"
  }
 },
 "nbformat": 4,
 "nbformat_minor": 5
}
