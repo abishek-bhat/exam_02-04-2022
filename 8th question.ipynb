{
 "cells": [
  {
   "cell_type": "code",
   "execution_count": 16,
   "id": "00df8244",
   "metadata": {},
   "outputs": [],
   "source": [
    "def accumlate(n):\n",
    "    x = lambda n: (sum(n)) / 5\n",
    "    result = x(n)\n",
    "    return result"
   ]
  },
  {
   "cell_type": "code",
   "execution_count": 17,
   "id": "910d706c",
   "metadata": {},
   "outputs": [],
   "source": [
    "list1=[9,8,7,5]"
   ]
  },
  {
   "cell_type": "code",
   "execution_count": 18,
   "id": "52b55d3d",
   "metadata": {},
   "outputs": [],
   "source": [
    "ans=accumlate(list1)"
   ]
  },
  {
   "cell_type": "code",
   "execution_count": 19,
   "id": "49e91fcd",
   "metadata": {},
   "outputs": [
    {
     "name": "stdout",
     "output_type": "stream",
     "text": [
      "Average is: 5.8\n"
     ]
    }
   ],
   "source": [
    "print(\"Average is:\",ans)"
   ]
  }
 ],
 "metadata": {
  "kernelspec": {
   "display_name": "Python 3 (ipykernel)",
   "language": "python",
   "name": "python3"
  },
  "language_info": {
   "codemirror_mode": {
    "name": "ipython",
    "version": 3
   },
   "file_extension": ".py",
   "mimetype": "text/x-python",
   "name": "python",
   "nbconvert_exporter": "python",
   "pygments_lexer": "ipython3",
   "version": "3.9.7"
  }
 },
 "nbformat": 4,
 "nbformat_minor": 5
}
